{
 "cells": [
  {
   "cell_type": "markdown",
   "metadata": {},
   "source": [
    "# Python and databases"
   ]
  },
  {
   "cell_type": "markdown",
   "metadata": {},
   "source": [
    "### Download and install the mysql 8.0 connector:\n",
    "https://dev.mysql.com/downloads/connector/python/"
   ]
  },
  {
   "cell_type": "markdown",
   "metadata": {},
   "source": [
    "## Documentation on the connector if you have trouble\n",
    "https://dev.mysql.com/doc/connector-python/en/connector-python-installation.html"
   ]
  },
  {
   "cell_type": "code",
   "execution_count": null,
   "metadata": {},
   "outputs": [],
   "source": [
    "## import mysql.connector\n",
    "import datetime\n",
    "\n",
    "cnx = mysql.connector.connect(user='dev', password='ax2',\n",
    "                              host='127.0.0.1',\n",
    "                              port='3307',\n",
    "                              database='test',\n",
    "                              use_pure=True) # use_pure is necessary when open_ssl package is from python 3.7 :-( \n",
    "cursor = cnx.cursor()\n",
    "\n",
    "query = (\"SELECT firstname, lastname, startdate, enddate, salary FROM pythondemo WHERE startdate BETWEEN %s AND %s\")\n",
    "\n",
    "hire_start = datetime.date(2002, 1, 1)\n",
    "hire_end = datetime.date(2004, 12, 31)\n",
    "\n",
    "cursor.execute(query, (hire_start, hire_end))\n",
    "\n",
    "for (firstname, lastname, startdate, enddate, salary) in cursor:\n",
    "  print(\"{} {} hired from {} to {} is paid: {} DKR\".format(firstname, lastname, startdate, enddate, salary))\n",
    "cursor.\n",
    "cursor.close()\n",
    "cnx.close()"
   ]
  },
  {
   "cell_type": "code",
   "execution_count": null,
   "metadata": {},
   "outputs": [],
   "source": [
    "# insert, update, delete\n",
    "from __future__ import print_function\n",
    "\n",
    "from decimal import Decimal\n",
    "from datetime import datetime, date, timedelta\n",
    "\n",
    "import mysql.connector\n",
    "\n",
    "# Connect with the MySQL Server\n",
    "cnx = mysql.connector.connect(user='dev', password='ax2',\n",
    "                              host='127.0.0.1',\n",
    "                              port='3307',\n",
    "                              database='test',\n",
    "                              use_pure=True) # use_pure is necessary when open_ssl package is from python 3.7 :-( \n",
    "cursor = cnx.cursor()\n",
    "# Get two buffered cursors\n",
    "curA = cnx.cursor(buffered=True)\n",
    "curB = cnx.cursor(buffered=True)\n",
    "\n",
    "# Query to get employees who joined in a period defined by two dates\n",
    "query = (\"SELECT id, salary FROM pythondemo WHERE enddate IS NULL\")\n",
    "\n",
    "# UPDATE and INSERT statements for the old and new salary\n",
    "update_old_salary = (\n",
    "  \"UPDATE pythondemo SET salary = %s \"\n",
    "  \"WHERE id = %s\")\n",
    "\n",
    "# Select the employees getting a raise (all that are still employed)\n",
    "curA.execute(query)\n",
    "\n",
    "# Iterate through the result of curA\n",
    "for (id, salary) in curA:\n",
    "\n",
    "  # Update the old and insert the new salary\n",
    "  new_salary = int(round(Decimal(salary) * Decimal('1.15')))\n",
    "  curB.execute(update_old_salary, (new_salary, id))\n",
    "  # Commit the changes\n",
    "  cnx.commit()\n",
    "cursor.close()\n",
    "curA.close()\n",
    "curB.close()\n",
    "cnx.close()\n"
   ]
  },
  {
   "cell_type": "code",
   "execution_count": 3,
   "metadata": {},
   "outputs": [
    {
     "name": "stdout",
     "output_type": "stream",
     "text": [
      "[{'firstname': 'Henny', 'lastname': 'Petersen', 'startdate': datetime.datetime(2002, 2, 2, 0, 0), 'enddate': datetime.datetime(2002, 2, 3, 23, 0), 'salary': '23000'}, {'firstname': 'Hassan', 'lastname': 'Hassani', 'startdate': datetime.datetime(2018, 7, 7, 0, 0), 'enddate': datetime.datetime(2020, 11, 12, 23, 0), 'salary': '43000'}, {'firstname': 'Hanne', 'lastname': 'Hansen', 'startdate': datetime.datetime(2002, 4, 3, 0, 0), 'enddate': None, 'salary': '62100'}, {'firstname': 'Jesper', 'lastname': 'Fårekylling', 'startdate': datetime.datetime(2002, 4, 3, 0, 0), 'enddate': datetime.datetime(2018, 7, 6, 22, 0), 'salary': '23000'}, {'firstname': 'Janni', 'lastname': 'Spiser', 'startdate': datetime.datetime(2011, 5, 23, 0, 0), 'enddate': None, 'salary': '118450'}]\n",
      "('firstname', 'lastname', 'startdate', 'enddate', 'salary')\n",
      "[]\n"
     ]
    }
   ],
   "source": [
    "# Fetch as dictionary\n",
    "import mysql.connector\n",
    "class Dict_Cursor(mysql.connector.cursor.MySQLCursor):\n",
    "    def fetchone(self):\n",
    "        row=self._fetch_row()\n",
    "        if row:\n",
    "            return dict(zip(self.column_names, row))\n",
    "        return None\n",
    "    \n",
    "    def fetchall(self):\n",
    "        result = []\n",
    "        while(True):\n",
    "            try:\n",
    "                row = self._fetch_row()\n",
    "                if(row == None):\n",
    "                    break\n",
    "                row = dict(zip(self.column_names, row))\n",
    "                result.append(row)\n",
    "            except:\n",
    "                print('DONE')\n",
    "        return result\n",
    "            \n",
    "            \n",
    "            \n",
    "cnx = mysql.connector.connect(user='dev', password='ax2',\n",
    "                              host='127.0.0.1',\n",
    "                              port='3307',\n",
    "                              database='test',\n",
    "                              use_pure=True) # use_pure is necessary when open_ssl package is from python 3.7 :-( \n",
    "\n",
    "cursor = cnx.cursor(cursor_class=Dict_Cursor)\n",
    "\n",
    "query = (\"SELECT firstname, lastname, startdate, enddate, salary FROM pythondemo\")\n",
    "\n",
    "cursor.execute(query)\n",
    "showall = cursor.fetchall()\n",
    "print(showall)\n",
    "columns = tuple([d[0] for d in cursor.description] )\n",
    "print(columns)\n",
    "all = []\n",
    "for (row) in cursor:\n",
    "    all.append(row)\n",
    "print(all)\n",
    "\n",
    "cursor.close()\n",
    "cnx.close()"
   ]
  },
  {
   "cell_type": "code",
   "execution_count": 6,
   "metadata": {},
   "outputs": [
    {
     "data": {
      "text/plain": [
       "[{'firstname': 'Henny',\n",
       "  'lastname': 'Petersen',\n",
       "  'startdate': datetime.datetime(2002, 2, 2, 0, 0),\n",
       "  'enddate': datetime.datetime(2002, 2, 3, 23, 0),\n",
       "  'salary': '23000'},\n",
       " {'firstname': 'Hassan',\n",
       "  'lastname': 'Hassani',\n",
       "  'startdate': datetime.datetime(2018, 7, 7, 0, 0),\n",
       "  'enddate': datetime.datetime(2020, 11, 12, 23, 0),\n",
       "  'salary': '43000'},\n",
       " {'firstname': 'Hanne',\n",
       "  'lastname': 'Hansen',\n",
       "  'startdate': datetime.datetime(2002, 4, 3, 0, 0),\n",
       "  'enddate': None,\n",
       "  'salary': '62100'},\n",
       " {'firstname': 'Jesper',\n",
       "  'lastname': 'Fårekylling',\n",
       "  'startdate': datetime.datetime(2002, 4, 3, 0, 0),\n",
       "  'enddate': datetime.datetime(2018, 7, 6, 22, 0),\n",
       "  'salary': '23000'},\n",
       " {'firstname': 'Janni',\n",
       "  'lastname': 'Spiser',\n",
       "  'startdate': datetime.datetime(2011, 5, 23, 0, 0),\n",
       "  'enddate': None,\n",
       "  'salary': '118450'}]"
      ]
     },
     "execution_count": 6,
     "metadata": {},
     "output_type": "execute_result"
    }
   ],
   "source": [
    "# with the build in MysqlCursorDict cursor\n",
    "cnx = mysql.connector.connect(user='dev', password='ax2',\n",
    "                              host='127.0.0.1',\n",
    "                              port='3307',\n",
    "                              database='test',\n",
    "                              use_pure=True) # use_pure is necessary when open_ssl package is from python 3.7 :-( \n",
    "\n",
    "cursor = cnx.cursor(dictionary=True, buffered=True) # dict and buffered cursor\n",
    "\n",
    "query = (\"SELECT firstname, lastname, startdate, enddate, salary FROM pythondemo\")\n",
    "\n",
    "cursor.execute(query)\n",
    "cursor.fetchall()"
   ]
  },
  {
   "cell_type": "markdown",
   "metadata": {},
   "source": [
    "# Self study\n",
    "Create a function that can take a dict and a table name and persist all values of the dict into the table columns corresponding to the dict keys."
   ]
  }
 ],
 "metadata": {
  "kernelspec": {
   "display_name": "Python 3",
   "language": "python",
   "name": "python3"
  },
  "language_info": {
   "codemirror_mode": {
    "name": "ipython",
    "version": 3
   },
   "file_extension": ".py",
   "mimetype": "text/x-python",
   "name": "python",
   "nbconvert_exporter": "python",
   "pygments_lexer": "ipython3",
   "version": "3.7.4"
  }
 },
 "nbformat": 4,
 "nbformat_minor": 2
}
